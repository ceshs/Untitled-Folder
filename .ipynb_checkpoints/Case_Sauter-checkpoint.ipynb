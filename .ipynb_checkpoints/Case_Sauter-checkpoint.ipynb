{
 "cells": [
  {
   "cell_type": "code",
   "execution_count": null,
   "metadata": {},
   "outputs": [],
   "source": []
  },
  {
   "cell_type": "code",
   "execution_count": 58,
   "metadata": {
    "scrolled": false
   },
   "outputs": [],
   "source": [
    "from google_play_scraper import Sort, reviews\n",
    "import pandas as pd\n",
    "import pyodbc\n",
    "from pprint import pprint\n",
    "from google.cloud import bigquery\n",
    "from google.oauth2 import service_account\n",
    "from pandas_profiling import ProfileReport\n",
    "\n",
    "result, continuation_token = reviews(\n",
    "    'com.amazon.dee.app',\n",
    "    lang='pt', # defaults to 'en'\n",
    "    country='br', # defaults to 'us'\n",
    "    sort=Sort.MOST_RELEVANT, # defaults to Sort.MOST_RELEVANT\n",
    "    count=180,\n",
    "    filter_score_with= None# defaults to None(means all score)\n",
    "    )\n",
    "\n",
    "key_path = \"GBQ.json\"\n",
    "credentials = service_account.Credentials.from_service_account_file(\n",
    "    key_path, scopes = [\"https://www.googleapis.com/auth/cloud-platform\"])\n",
    "\n",
    "client = bigquery.Client('projeto-1-335101',credentials)\n",
    "\n",
    "# Perform a query.\n",
    "QUERY = ('SELECT thumbsUpCount,reviewDate,content FROM `projeto-1-335101.review.reviews`')\n",
    "query_job = client.query(QUERY)  # API request\n",
    "rows = query_job.result()  # Waits for query to finish\n",
    "\n",
    "\n",
    "    \n",
    "\n",
    "class Review():\n",
    "    def __init__(self,content,score,thumbsUpCount,reviewsCreatedVersion,at,replyContent,repliedAt):\n",
    "        self.content = content\n",
    "        self.score = score\n",
    "        self.thumbsUpCount = thumbsUpCount\n",
    "        self.reviewsCreatedVersion = reviewsCreatedVersion\n",
    "        self.at = at\n",
    "        self.replyContent = replyContent\n",
    "        self.repliedAt = repliedAt\n",
    "\n",
    "qlist = []\n",
    "for p in rows:\n",
    "    qlist.append(Review(p.get('content'),-1,-1,-1,p.get('reviewDate'),-1,-1))\n",
    "\n",
    "review_list = []\n",
    "for x in result:\n",
    "     \n",
    "    for row in qlist:\n",
    "        exists = False   \n",
    "        if  str(x.get('at'))+'+00:00'== str(row.at) and x.get('content') == row.content:          \n",
    "            exists = True\n",
    "            break \n",
    "            \n",
    "    if exists == False:\n",
    "        \n",
    "        review_list.append(Review(x.get('content'),x.get('score'),x.get('thumbsUpCount'),x.get('reviewCreatedVersion'),x.get('at'),x.get('repliedContent'),x.get('repliedAt')))\n",
    "   \n",
    "vinicius = []\n",
    "for object in review_list:\n",
    "    list=[]\n",
    "    for variable in vars(object).values():\n",
    "        list.append(variable)\n",
    "    vinicius.append(list)\n",
    "\n",
    "\n",
    "\n"
   ]
  },
  {
   "cell_type": "code",
   "execution_count": 59,
   "metadata": {
    "scrolled": true
   },
   "outputs": [
    {
     "data": {
      "text/html": [
       "<div>\n",
       "<style scoped>\n",
       "    .dataframe tbody tr th:only-of-type {\n",
       "        vertical-align: middle;\n",
       "    }\n",
       "\n",
       "    .dataframe tbody tr th {\n",
       "        vertical-align: top;\n",
       "    }\n",
       "\n",
       "    .dataframe thead th {\n",
       "        text-align: right;\n",
       "    }\n",
       "</style>\n",
       "<table border=\"1\" class=\"dataframe\">\n",
       "  <thead>\n",
       "    <tr style=\"text-align: right;\">\n",
       "      <th></th>\n",
       "      <th>content</th>\n",
       "      <th>score</th>\n",
       "      <th>thumbsUpCount</th>\n",
       "      <th>reviewCreatedVersion</th>\n",
       "      <th>reviewDate</th>\n",
       "      <th>repliedContent</th>\n",
       "      <th>repliedAt</th>\n",
       "    </tr>\n",
       "  </thead>\n",
       "  <tbody>\n",
       "    <tr>\n",
       "      <th>0</th>\n",
       "      <td>Há dias que venho tentando editar as rotinas e...</td>\n",
       "      <td>2</td>\n",
       "      <td>2</td>\n",
       "      <td>2.2.432925.0</td>\n",
       "      <td>2021-11-04 10:09:36</td>\n",
       "      <td>None</td>\n",
       "      <td>None</td>\n",
       "    </tr>\n",
       "    <tr>\n",
       "      <th>1</th>\n",
       "      <td>Gosto da Alexa para tocar músicas que peço. Me...</td>\n",
       "      <td>3</td>\n",
       "      <td>38</td>\n",
       "      <td>2.2.427576.0</td>\n",
       "      <td>2021-10-11 22:57:45</td>\n",
       "      <td>None</td>\n",
       "      <td>None</td>\n",
       "    </tr>\n",
       "    <tr>\n",
       "      <th>2</th>\n",
       "      <td>A alguns dias q tento, só fica dizendo que a c...</td>\n",
       "      <td>1</td>\n",
       "      <td>4</td>\n",
       "      <td>2.2.435197.0</td>\n",
       "      <td>2021-11-15 14:35:57</td>\n",
       "      <td>None</td>\n",
       "      <td>None</td>\n",
       "    </tr>\n",
       "    <tr>\n",
       "      <th>3</th>\n",
       "      <td>O aplicativo funciona bem, porém tem um proble...</td>\n",
       "      <td>4</td>\n",
       "      <td>4</td>\n",
       "      <td>2.2.432925.0</td>\n",
       "      <td>2021-11-07 17:44:08</td>\n",
       "      <td>None</td>\n",
       "      <td>None</td>\n",
       "    </tr>\n",
       "    <tr>\n",
       "      <th>4</th>\n",
       "      <td>Estou tendo uma ótima experiência com a assist...</td>\n",
       "      <td>5</td>\n",
       "      <td>65</td>\n",
       "      <td>2.2.427576.0</td>\n",
       "      <td>2021-10-16 20:40:38</td>\n",
       "      <td>None</td>\n",
       "      <td>None</td>\n",
       "    </tr>\n",
       "  </tbody>\n",
       "</table>\n",
       "</div>"
      ],
      "text/plain": [
       "                                             content  score  thumbsUpCount  \\\n",
       "0  Há dias que venho tentando editar as rotinas e...      2              2   \n",
       "1  Gosto da Alexa para tocar músicas que peço. Me...      3             38   \n",
       "2  A alguns dias q tento, só fica dizendo que a c...      1              4   \n",
       "3  O aplicativo funciona bem, porém tem um proble...      4              4   \n",
       "4  Estou tendo uma ótima experiência com a assist...      5             65   \n",
       "\n",
       "  reviewCreatedVersion          reviewDate repliedContent repliedAt  \n",
       "0         2.2.432925.0 2021-11-04 10:09:36           None      None  \n",
       "1         2.2.427576.0 2021-10-11 22:57:45           None      None  \n",
       "2         2.2.435197.0 2021-11-15 14:35:57           None      None  \n",
       "3         2.2.432925.0 2021-11-07 17:44:08           None      None  \n",
       "4         2.2.427576.0 2021-10-16 20:40:38           None      None  "
      ]
     },
     "execution_count": 59,
     "metadata": {},
     "output_type": "execute_result"
    }
   ],
   "source": [
    "df = pd.DataFrame(vinicius,\n",
    "                 columns =['content', 'score','thumbsUpCount','reviewCreatedVersion','reviewDate','repliedContent','repliedAt'])\n",
    "df.head()\n",
    "\n"
   ]
  },
  {
   "cell_type": "code",
   "execution_count": 60,
   "metadata": {},
   "outputs": [
    {
     "name": "stderr",
     "output_type": "stream",
     "text": [
      "100%|███████████████████████████████████████████████████████████████████████████████████| 1/1 [00:00<00:00, 999.12it/s]\n",
      "100%|████████████████████████████████████████████████████████████████████████████████████████████| 1/1 [00:00<?, ?it/s]\n",
      "100%|████████████████████████████████████████████████████████████████████████████████████████████| 1/1 [00:00<?, ?it/s]\n",
      "100%|████████████████████████████████████████████████████████████████████████████████████████████| 1/1 [00:00<?, ?it/s]\n"
     ]
    }
   ],
   "source": [
    "df_high = df.loc[(df['score']) > 3]\n",
    "df_medium = df.loc[(df['score']) == 3]\n",
    "df_low = df.loc[(df['score']) < 3]\n",
    "\n",
    "\n",
    "df.to_gbq(credentials=credentials,\n",
    "                 destination_table='review.reviews',\n",
    "                 if_exists='append')\n",
    "df_high.to_gbq(credentials=credentials,\n",
    "                 destination_table='review.aval_positiva',\n",
    "                 if_exists='append')\n",
    "\n",
    "df_medium.to_gbq(credentials=credentials,\n",
    "                 destination_table='review.aval_neutra',\n",
    "                 if_exists='append')\n",
    "\n",
    "df_low.to_gbq(credentials=credentials,\n",
    "                 destination_table='review.aval_negativa',\n",
    "                 if_exists='append')\n",
    "\n",
    "\n",
    "\n",
    "df_high.to_csv('C:/Users/cesar/Documents/Untitled Folder/aval_positiva.csv')\n",
    "df_medium.to_csv('C:/Users/cesar/Documents/Untitled Folder/aval_neutra.csv')\n",
    "df_low.to_csv('C:/Users/cesar/Documents/Untitled Folder/aval_negativa.csv')\n"
   ]
  },
  {
   "cell_type": "code",
   "execution_count": 61,
   "metadata": {},
   "outputs": [],
   "source": [
    "rep_high = ProfileReport(df_high, title=\"Report avaliação positiva\")\n",
    "rep_medium = ProfileReport(df_medium, title=\"Report avaliação neutra\")\n",
    "rep_low = ProfileReport(df_low, title=\"Report avaliação negativa\")\n",
    "\n",
    "\n"
   ]
  },
  {
   "cell_type": "code",
   "execution_count": 62,
   "metadata": {},
   "outputs": [
    {
     "data": {
      "application/vnd.jupyter.widget-view+json": {
       "model_id": "fe4129bb86b44accb6fedf593a5d3d9d",
       "version_major": 2,
       "version_minor": 0
      },
      "text/plain": [
       "HBox(children=(HTML(value='Summarize dataset'), FloatProgress(value=0.0, max=5.0), HTML(value='')))"
      ]
     },
     "metadata": {},
     "output_type": "display_data"
    },
    {
     "name": "stdout",
     "output_type": "stream",
     "text": [
      "\n"
     ]
    },
    {
     "data": {
      "application/vnd.jupyter.widget-view+json": {
       "model_id": "5a457aabbea345238cb6d0aaf0ff0bd7",
       "version_major": 2,
       "version_minor": 0
      },
      "text/plain": [
       "HBox(children=(HTML(value='Generate report structure'), FloatProgress(value=0.0, max=1.0), HTML(value='')))"
      ]
     },
     "metadata": {},
     "output_type": "display_data"
    },
    {
     "name": "stderr",
     "output_type": "stream",
     "text": [
      "C:\\Users\\cesar\\anaconda3\\lib\\site-packages\\matplotlib\\textpath.py:74: RuntimeWarning: Glyph 129392 missing from current font.\n",
      "  font.set_text(s, 0.0, flags=LOAD_NO_HINTING)\n",
      "C:\\Users\\cesar\\anaconda3\\lib\\site-packages\\matplotlib\\textpath.py:74: RuntimeWarning: Glyph 10084 missing from current font.\n",
      "  font.set_text(s, 0.0, flags=LOAD_NO_HINTING)\n",
      "C:\\Users\\cesar\\anaconda3\\lib\\site-packages\\matplotlib\\backends\\backend_agg.py:238: RuntimeWarning: Glyph 129392 missing from current font.\n",
      "  font.set_text(s, 0.0, flags=flags)\n",
      "C:\\Users\\cesar\\anaconda3\\lib\\site-packages\\matplotlib\\backends\\backend_agg.py:238: RuntimeWarning: Glyph 10084 missing from current font.\n",
      "  font.set_text(s, 0.0, flags=flags)\n",
      "C:\\Users\\cesar\\anaconda3\\lib\\site-packages\\matplotlib\\backends\\backend_agg.py:201: RuntimeWarning: Glyph 129392 missing from current font.\n",
      "  font.set_text(s, 0, flags=flags)\n",
      "C:\\Users\\cesar\\anaconda3\\lib\\site-packages\\matplotlib\\backends\\backend_agg.py:201: RuntimeWarning: Glyph 10084 missing from current font.\n",
      "  font.set_text(s, 0, flags=flags)\n"
     ]
    },
    {
     "name": "stdout",
     "output_type": "stream",
     "text": [
      "\n"
     ]
    },
    {
     "data": {
      "application/vnd.jupyter.widget-view+json": {
       "model_id": "e357e7a5dd294f9099c3b1c7dddae9c5",
       "version_major": 2,
       "version_minor": 0
      },
      "text/plain": [
       "HBox(children=(HTML(value='Render HTML'), FloatProgress(value=0.0, max=1.0), HTML(value='')))"
      ]
     },
     "metadata": {},
     "output_type": "display_data"
    },
    {
     "name": "stdout",
     "output_type": "stream",
     "text": [
      "\n"
     ]
    },
    {
     "data": {
      "application/vnd.jupyter.widget-view+json": {
       "model_id": "d1f8ef677eb945dfb95853cfc8a73439",
       "version_major": 2,
       "version_minor": 0
      },
      "text/plain": [
       "HBox(children=(HTML(value='Export report to file'), FloatProgress(value=0.0, max=1.0), HTML(value='')))"
      ]
     },
     "metadata": {},
     "output_type": "display_data"
    },
    {
     "name": "stdout",
     "output_type": "stream",
     "text": [
      "\n"
     ]
    },
    {
     "data": {
      "application/vnd.jupyter.widget-view+json": {
       "model_id": "e95863c7fde4432ba7a4f90faf723151",
       "version_major": 2,
       "version_minor": 0
      },
      "text/plain": [
       "HBox(children=(HTML(value='Summarize dataset'), FloatProgress(value=0.0, max=5.0), HTML(value='')))"
      ]
     },
     "metadata": {},
     "output_type": "display_data"
    },
    {
     "name": "stdout",
     "output_type": "stream",
     "text": [
      "\n"
     ]
    },
    {
     "data": {
      "application/vnd.jupyter.widget-view+json": {
       "model_id": "a04f5b0b7092425b9c66e27b31dc48b4",
       "version_major": 2,
       "version_minor": 0
      },
      "text/plain": [
       "HBox(children=(HTML(value='Generate report structure'), FloatProgress(value=0.0, max=1.0), HTML(value='')))"
      ]
     },
     "metadata": {},
     "output_type": "display_data"
    },
    {
     "name": "stdout",
     "output_type": "stream",
     "text": [
      "\n"
     ]
    },
    {
     "data": {
      "application/vnd.jupyter.widget-view+json": {
       "model_id": "af032565c5ac4d7091b5212fe3f4f057",
       "version_major": 2,
       "version_minor": 0
      },
      "text/plain": [
       "HBox(children=(HTML(value='Render HTML'), FloatProgress(value=0.0, max=1.0), HTML(value='')))"
      ]
     },
     "metadata": {},
     "output_type": "display_data"
    },
    {
     "name": "stdout",
     "output_type": "stream",
     "text": [
      "\n"
     ]
    },
    {
     "data": {
      "application/vnd.jupyter.widget-view+json": {
       "model_id": "ad5bc6a35bbb475a8475b0dfa587d485",
       "version_major": 2,
       "version_minor": 0
      },
      "text/plain": [
       "HBox(children=(HTML(value='Export report to file'), FloatProgress(value=0.0, max=1.0), HTML(value='')))"
      ]
     },
     "metadata": {},
     "output_type": "display_data"
    },
    {
     "name": "stdout",
     "output_type": "stream",
     "text": [
      "\n"
     ]
    },
    {
     "data": {
      "application/vnd.jupyter.widget-view+json": {
       "model_id": "9231f361a1ba4c77b61ac0ae243c32cc",
       "version_major": 2,
       "version_minor": 0
      },
      "text/plain": [
       "HBox(children=(HTML(value='Summarize dataset'), FloatProgress(value=0.0, max=5.0), HTML(value='')))"
      ]
     },
     "metadata": {},
     "output_type": "display_data"
    },
    {
     "name": "stdout",
     "output_type": "stream",
     "text": [
      "\n"
     ]
    },
    {
     "data": {
      "application/vnd.jupyter.widget-view+json": {
       "model_id": "b1cf3a3d060f4061ad57869b1a064454",
       "version_major": 2,
       "version_minor": 0
      },
      "text/plain": [
       "HBox(children=(HTML(value='Generate report structure'), FloatProgress(value=0.0, max=1.0), HTML(value='')))"
      ]
     },
     "metadata": {},
     "output_type": "display_data"
    },
    {
     "name": "stderr",
     "output_type": "stream",
     "text": [
      "C:\\Users\\cesar\\anaconda3\\lib\\site-packages\\matplotlib\\textpath.py:74: RuntimeWarning: Glyph 128532 missing from current font.\n",
      "  font.set_text(s, 0.0, flags=LOAD_NO_HINTING)\n",
      "C:\\Users\\cesar\\anaconda3\\lib\\site-packages\\matplotlib\\backends\\backend_agg.py:238: RuntimeWarning: Glyph 128532 missing from current font.\n",
      "  font.set_text(s, 0.0, flags=flags)\n",
      "C:\\Users\\cesar\\anaconda3\\lib\\site-packages\\matplotlib\\backends\\backend_agg.py:201: RuntimeWarning: Glyph 128532 missing from current font.\n",
      "  font.set_text(s, 0, flags=flags)\n"
     ]
    },
    {
     "name": "stdout",
     "output_type": "stream",
     "text": [
      "\n"
     ]
    },
    {
     "data": {
      "application/vnd.jupyter.widget-view+json": {
       "model_id": "3c3967628880481882b9cfba4767d3b8",
       "version_major": 2,
       "version_minor": 0
      },
      "text/plain": [
       "HBox(children=(HTML(value='Render HTML'), FloatProgress(value=0.0, max=1.0), HTML(value='')))"
      ]
     },
     "metadata": {},
     "output_type": "display_data"
    },
    {
     "name": "stdout",
     "output_type": "stream",
     "text": [
      "\n"
     ]
    },
    {
     "data": {
      "application/vnd.jupyter.widget-view+json": {
       "model_id": "aeaa498df4bb4a949af5dca75712cd4f",
       "version_major": 2,
       "version_minor": 0
      },
      "text/plain": [
       "HBox(children=(HTML(value='Export report to file'), FloatProgress(value=0.0, max=1.0), HTML(value='')))"
      ]
     },
     "metadata": {},
     "output_type": "display_data"
    },
    {
     "name": "stdout",
     "output_type": "stream",
     "text": [
      "\n"
     ]
    }
   ],
   "source": [
    "rep_high.to_file('C:/Users/cesar/Documents/Untitled Folder/report_aval_positiva.html')\n",
    "rep_medium.to_file('C:/Users/cesar/Documents/Untitled Folder/report_aval_neutra.html')\n",
    "rep_low.to_file('C:/Users/cesar/Documents/Untitled Folder/report_aval_negativa.html')"
   ]
  },
  {
   "cell_type": "code",
   "execution_count": null,
   "metadata": {},
   "outputs": [],
   "source": []
  },
  {
   "cell_type": "code",
   "execution_count": null,
   "metadata": {},
   "outputs": [],
   "source": []
  }
 ],
 "metadata": {
  "kernelspec": {
   "display_name": "Python 3",
   "language": "python",
   "name": "python3"
  }
 },
 "nbformat": 4,
 "nbformat_minor": 4
}
